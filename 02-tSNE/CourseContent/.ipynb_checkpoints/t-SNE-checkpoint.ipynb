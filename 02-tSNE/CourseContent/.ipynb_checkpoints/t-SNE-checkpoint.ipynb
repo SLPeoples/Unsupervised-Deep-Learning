{
 "cells": [
  {
   "cell_type": "markdown",
   "metadata": {},
   "source": [
    "# t-Distributed Stochastic Neighbor Embedding Visualization"
   ]
  },
  {
   "cell_type": "code",
   "execution_count": null,
   "metadata": {
    "collapsed": true
   },
   "outputs": [],
   "source": [
    "from __future__ import print_function, division\n",
    "from builtins import range, input\n",
    "import numpy as np\n",
    "import matplotlib.pyplot as plt\n",
    "from mpl_toolkits.mplot3d import Axes3D\n",
    "from sklearn.manifold import TSNE\n",
    "\n",
    "if __name__ == '__main__':\n",
    "  # define the centers of each Gaussian cloud\n",
    "  centers = np.array([\n",
    "    [ 1,  1,  1],\n",
    "    [ 1,  1, -1],\n",
    "    [ 1, -1,  1],\n",
    "    [ 1, -1, -1],\n",
    "    [-1,  1,  1],\n",
    "    [-1,  1, -1],\n",
    "    [-1, -1,  1],\n",
    "    [-1, -1, -1],\n",
    "  ])*3\n",
    "\n",
    "  # create the clouds, Gaussian samples centered at\n",
    "  # each of the centers we just made\n",
    "  data = []\n",
    "  pts_per_cloud = 100\n",
    "  for c in centers:\n",
    "    cloud = np.random.randn(pts_per_cloud, 3) + c\n",
    "    data.append(cloud)\n",
    "  data = np.concatenate(data)\n",
    "\n",
    "  # visualize the clouds in 3-D\n",
    "  # add colors / labels so we can track where the points go\n",
    "  colors = np.array([[i]*pts_per_cloud for i in range(len(centers))]).flatten()\n",
    "  fig = plt.figure()\n",
    "  ax = fig.add_subplot(111, projection='3d')\n",
    "  ax.scatter(data[:,0], data[:,1], data[:,2], c=colors)\n",
    "  plt.show()\n",
    "\n",
    "\n",
    "  # perform dimensionality reduction\n",
    "  tsne = TSNE()\n",
    "  transformed = tsne.fit_transform(data)\n",
    "\n",
    "  # visualize the clouds in 2-D\n",
    "  plt.scatter(transformed[:,0], transformed[:,1], c=colors)\n",
    "  plt.show()"
   ]
  },
  {
   "cell_type": "markdown",
   "metadata": {},
   "source": [
    "# t-SNE on the Donut"
   ]
  },
  {
   "cell_type": "code",
   "execution_count": null,
   "metadata": {
    "collapsed": true
   },
   "outputs": [],
   "source": []
  },
  {
   "cell_type": "markdown",
   "metadata": {},
   "source": [
    "# t-SNE on XOR"
   ]
  },
  {
   "cell_type": "code",
   "execution_count": null,
   "metadata": {
    "collapsed": true
   },
   "outputs": [],
   "source": []
  },
  {
   "cell_type": "markdown",
   "metadata": {},
   "source": [
    "# t-SNE on MNIST"
   ]
  },
  {
   "cell_type": "code",
   "execution_count": null,
   "metadata": {
    "collapsed": true
   },
   "outputs": [],
   "source": []
  }
 ],
 "metadata": {
  "kernelspec": {
   "display_name": "Python 3",
   "language": "python",
   "name": "python3"
  },
  "language_info": {
   "codemirror_mode": {
    "name": "ipython",
    "version": 3
   },
   "file_extension": ".py",
   "mimetype": "text/x-python",
   "name": "python",
   "nbconvert_exporter": "python",
   "pygments_lexer": "ipython3",
   "version": "3.6.3"
  }
 },
 "nbformat": 4,
 "nbformat_minor": 2
}
