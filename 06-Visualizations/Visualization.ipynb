{
 "cells": [
  {
   "cell_type": "markdown",
   "metadata": {},
   "source": [
    "# Visualizations"
   ]
  },
  {
   "cell_type": "code",
   "execution_count": null,
   "metadata": {
    "collapsed": true
   },
   "outputs": [],
   "source": [
    "import numpy as np\n",
    "import theano\n",
    "import theano.tensor as T\n",
    "import matplotlib.pyplot as plt\n",
    "from sklearn.utils import shuffle\n",
    "from theano.tensor.shared_randomstreams import RandomStreams\n",
    "from util import relu, error_rate, getKaggleMNIST, init_weights\n",
    "from unsupervised import DBN\n",
    "from rbm import RBM"
   ]
  },
  {
   "cell_type": "code",
   "execution_count": null,
   "metadata": {},
   "outputs": [],
   "source": [
    "Xtrain, Ytrain, Xtest, Ytest = getKaggleMNIST()\n",
    "#if loadfile:\n",
    "#    dbn = DBN.load(loadfile)\n",
    "#else:\n",
    "dbn = DBN([1000, 750, 500, 10]) # AutoEncoder is default\n",
    "dbn = DBN([1000, 750, 500, 10], UnsupervisedModel=RBM)\n",
    "dbn.fit(Xtrain, pretrain_epochs=1)\n",
    "\n",
    "if savefile:\n",
    "    dbn.save(savefile)\n",
    "\n",
    "# first layer features\n",
    "# initial weight is D x M\n",
    "# W = dbn.hidden_layers[0].W.eval()\n",
    "# for i in xrange(dbn.hidden_layers[0].M):\n",
    "#     imgplot = plt.imshow(W[:,i].reshape(28, 28), cmap='gray')\n",
    "#     plt.show()\n",
    "#     should_quit = raw_input(\"Show more? Enter 'n' to quit\\n\")\n",
    "#     if should_quit == 'n':\n",
    "#         break\n",
    "\n",
    "# features learned in the last layer\n",
    "for k in xrange(dbn.hidden_layers[-1].M):\n",
    "    # activate the kth node\n",
    "    X = dbn.fit_to_input(k)\n",
    "    imgplot = plt.imshow(X.reshape(28, 28), cmap='gray')\n",
    "    plt.show()\n",
    "    if k < dbn.hidden_layers[-1].M - 1:\n",
    "        should_quit = raw_input(\"Show more? Enter 'n' to quit\\n\")\n",
    "        if should_quit == 'n':\n",
    "            break"
   ]
  },
  {
   "cell_type": "code",
   "execution_count": null,
   "metadata": {
    "collapsed": true
   },
   "outputs": [],
   "source": []
  }
 ],
 "metadata": {
  "kernelspec": {
   "display_name": "Python 3",
   "language": "python",
   "name": "python3"
  },
  "language_info": {
   "codemirror_mode": {
    "name": "ipython",
    "version": 3
   },
   "file_extension": ".py",
   "mimetype": "text/x-python",
   "name": "python",
   "nbconvert_exporter": "python",
   "pygments_lexer": "ipython3",
   "version": "3.6.3"
  }
 },
 "nbformat": 4,
 "nbformat_minor": 2
}
